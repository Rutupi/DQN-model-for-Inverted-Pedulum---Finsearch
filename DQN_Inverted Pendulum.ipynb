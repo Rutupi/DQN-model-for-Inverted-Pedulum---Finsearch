{
 "cells": [
  {
   "cell_type": "markdown",
   "id": "0379a8f0",
   "metadata": {},
   "source": [
    "# Finsearch 2025 midterm Submission"
   ]
  },
  {
   "cell_type": "markdown",
   "id": "af078fc2",
   "metadata": {},
   "source": [
    "This is the Code for the Midterm report submission of the Finsearch 2025.\n",
    "\n",
    "Topic - Use deep reinforcement learning (RL) to optimise stock trading\n",
    "strategy and thus maximise investment return."
   ]
  },
  {
   "cell_type": "markdown",
   "id": "265998ae",
   "metadata": {},
   "source": [
    "Starting of with importing libraries for RL model. Gymnaisum is used to create a environment for inverted pendulum."
   ]
  },
  {
   "cell_type": "code",
   "execution_count": null,
   "id": "c6ce8ba4",
   "metadata": {},
   "outputs": [
    {
     "ename": "",
     "evalue": "",
     "output_type": "error",
     "traceback": [
      "\u001b[1;31mThe kernel failed to start due to the missing module 'Crypto'. Consider installing this module.\n",
      "\u001b[1;31mClick <a href='https://aka.ms/kernelFailuresMissingModule'>here</a> for more info.\n",
      "\u001b[1;31mSome of the following files found in the working directory may have prevented the Kernel from starting. Consider renaming them.\n",
      "\u001b[1;31mFile(s): <a href='file:///d%3A/code.py?line=1'>~\\code.py</a> might need to be renamed.\n",
      "\u001b[1;31mClick <a href='https://aka.ms/JupyterKernelStartFailureOverrideReservedName'>here</a> for more info."
     ]
    }
   ],
   "source": [
    "import os\n",
    "\n",
    "os.environ[\"KERAS_BACKEND\"] = \"tensorflow\"\n",
    "\n",
    "import keras\n",
    "from keras import layers\n",
    "\n",
    "import tensorflow as tf\n",
    "import gymnasium as gym\n",
    "import numpy as np\n",
    "import matplotlib.pyplot as plt"
   ]
  },
  {
   "cell_type": "markdown",
   "id": "b78c26b5",
   "metadata": {},
   "source": [
    "Now let us create a environment in the using the gymnasium library for the inverted pendulum."
   ]
  },
  {
   "cell_type": "code",
   "execution_count": null,
   "id": "66bb53e4",
   "metadata": {},
   "outputs": [],
   "source": [
    "# Specify the `render_mode` parameter to show the attempts of the agent in a pop up window.\n",
    "env = gym.make(\"Pendulum-v1\", render_mode=\"human\")\n",
    "\n",
    "num_states = env.observation_space.shape[0]\n",
    "print(\"Size of State Space ->  {}\".format(num_states))\n",
    "num_actions = env.action_space.shape[0]\n",
    "print(\"Size of Action Space ->  {}\".format(num_actions))\n",
    "\n",
    "upper_bound = env.action_space.high[0]\n",
    "lower_bound = env.action_space.low[0]\n",
    "\n",
    "print(\"Max Value of Action ->  {}\".format(upper_bound))\n",
    "print(\"Min Value of Action ->  {}\".format(lower_bound))"
   ]
  },
  {
   "cell_type": "markdown",
   "id": "f5330da4",
   "metadata": {},
   "source": [
    "This shows the state of the pedulum and max and min values for the action.\n",
    "Note that the action here is not discrete and can vary continuously from -2 to +2."
   ]
  },
  {
   "cell_type": "markdown",
   "id": "5f8e9d66",
   "metadata": {},
   "source": [
    "To implement better exploration by the Actor network, we use noisy perturbations, specifically an Ornstein-Uhlenbeck process for generating noise, as described in the paper. It samples noise from a correlated normal distribution."
   ]
  },
  {
   "cell_type": "code",
   "execution_count": null,
   "id": "678114b8",
   "metadata": {},
   "outputs": [],
   "source": [
    "class OUActionNoise:\n",
    "    def __init__(self, mean, std_deviation, theta=0.15, dt=1e-2, x_initial=None):\n",
    "        self.theta = theta\n",
    "        self.mean = mean\n",
    "        self.std_dev = std_deviation\n",
    "        self.dt = dt\n",
    "        self.x_initial = x_initial\n",
    "        self.reset()\n",
    "\n",
    "    def __call__(self):\n",
    "        # Formula taken from https://www.wikipedia.org/wiki/Ornstein-Uhlenbeck_process\n",
    "        x = (\n",
    "            self.x_prev\n",
    "            + self.theta * (self.mean - self.x_prev) * self.dt\n",
    "            + self.std_dev * np.sqrt(self.dt) * np.random.normal(size=self.mean.shape)\n",
    "        )\n",
    "        # Store x into x_prev\n",
    "        # Makes next noise dependent on current one\n",
    "        self.x_prev = x\n",
    "        return x\n",
    "\n",
    "    def reset(self):\n",
    "        if self.x_initial is not None:\n",
    "            self.x_prev = self.x_initial\n",
    "        else:\n",
    "            self.x_prev = np.zeros_like(self.mean)\n"
   ]
  },
  {
   "cell_type": "code",
   "execution_count": null,
   "id": "8f215177",
   "metadata": {},
   "outputs": [],
   "source": [
    "def DQN_build_model():\n",
    "    "
   ]
  }
 ],
 "metadata": {
  "kernelspec": {
   "display_name": "base",
   "language": "python",
   "name": "python3"
  },
  "language_info": {
   "codemirror_mode": {
    "name": "ipython",
    "version": 3
   },
   "file_extension": ".py",
   "mimetype": "text/x-python",
   "name": "python",
   "nbconvert_exporter": "python",
   "pygments_lexer": "ipython3",
   "version": "3.12.7"
  }
 },
 "nbformat": 4,
 "nbformat_minor": 5
}
